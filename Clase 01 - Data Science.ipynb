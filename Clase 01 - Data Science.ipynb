{
 "cells": [
  {
   "cell_type": "code",
   "execution_count": 8,
   "metadata": {},
   "outputs": [
    {
     "name": "stdout",
     "output_type": "stream",
     "text": [
      "Daniel 29\n",
      "Mi nombre es Daniel. Mi edad es 29 años\n"
     ]
    }
   ],
   "source": [
    "#Primeros pasos con Python\n",
    "nombre = \"Daniel\"\n",
    "edad = 29\n",
    "print(nombre, edad)\n",
    "print('Mi nombre es {0}. Mi edad es {1} años'.format(nombre, edad))"
   ]
  },
  {
   "cell_type": "code",
   "execution_count": 14,
   "metadata": {},
   "outputs": [
    {
     "name": "stdin",
     "output_type": "stream",
     "text": [
      "Introduce la edad de tu compañera:  25\n"
     ]
    },
    {
     "name": "stdout",
     "output_type": "stream",
     "text": [
      "La diferencia de las edades es: 4\n",
      "Tu edad es mayor que la de tu compañera\n",
      "La nueva edad de tu compañera es:  75\n"
     ]
    }
   ],
   "source": [
    "#Hands-On training: Ejercicio de código\n",
    "# -------------- 1. La edad de mi Compañer@\n",
    "\n",
    "edad = 29\n",
    "edad_companera = int(input('Introduce la edad de tu compañera: '))\n",
    "\n",
    "print('La diferencia de las edades es:', edad-edad_companera)\n",
    "\n",
    "if edad < edad_companera:\n",
    "    print('La edad de tu compañera es mayor que tu edad')\n",
    "    edad += 50\n",
    "    print('La nueva edad tuya es: ', edad)\n",
    "else:\n",
    "    print('Tu edad es mayor que la de tu compañera')\n",
    "    edad_companera +=50\n",
    "    print('La nueva edad de tu compañera es: ', edad_companera)"
   ]
  },
  {
   "cell_type": "code",
   "execution_count": 34,
   "metadata": {},
   "outputs": [
    {
     "name": "stdout",
     "output_type": "stream",
     "text": [
      "[0, 1, 2, 3, 4, 5, 6, 7, 8, 9]\n"
     ]
    }
   ],
   "source": [
    "# -------------- 2. Lista numérica\n",
    "# 1. Imprimir en pantalla los primeros 10 números naturales (0....9)\n",
    "primeros_10 = list(range(0,10))\n",
    "print(primeros_10)"
   ]
  },
  {
   "cell_type": "code",
   "execution_count": 35,
   "metadata": {},
   "outputs": [
    {
     "name": "stdout",
     "output_type": "stream",
     "text": [
      "0\n",
      "2\n",
      "4\n",
      "6\n",
      "8\n"
     ]
    }
   ],
   "source": [
    "# 2. Imprimir únicamente los cinco primeros números pares\n",
    "for i in primeros_10:\n",
    "    if i % 2 == 0:\n",
    "        print(i)"
   ]
  }
 ],
 "metadata": {
  "kernelspec": {
   "display_name": "Python 3",
   "language": "python",
   "name": "python3"
  },
  "language_info": {
   "codemirror_mode": {
    "name": "ipython",
    "version": 3
   },
   "file_extension": ".py",
   "mimetype": "text/x-python",
   "name": "python",
   "nbconvert_exporter": "python",
   "pygments_lexer": "ipython3",
   "version": "3.7.5"
  }
 },
 "nbformat": 4,
 "nbformat_minor": 4
}
